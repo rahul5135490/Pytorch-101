{
 "cells": [
  {
   "cell_type": "code",
   "execution_count": 1,
   "id": "c486a2af",
   "metadata": {},
   "outputs": [],
   "source": [
    "import torch"
   ]
  },
  {
   "cell_type": "code",
   "execution_count": 2,
   "id": "b899c6b9",
   "metadata": {},
   "outputs": [],
   "source": [
    "import numpy as np"
   ]
  },
  {
   "cell_type": "code",
   "execution_count": 3,
   "id": "9b55ec45",
   "metadata": {},
   "outputs": [],
   "source": [
    "x=[[1,2],[3,4]]"
   ]
  },
  {
   "cell_type": "markdown",
   "id": "04dd4993",
   "metadata": {},
   "source": [
    "### Create Tensors"
   ]
  },
  {
   "cell_type": "code",
   "execution_count": 4,
   "id": "c9ea21ca",
   "metadata": {},
   "outputs": [
    {
     "data": {
      "text/plain": [
       "tensor([[1, 2],\n",
       "        [3, 4]])"
      ]
     },
     "execution_count": 4,
     "metadata": {},
     "output_type": "execute_result"
    }
   ],
   "source": [
    "x_tensor=torch.tensor(x)\n",
    "x_tensor"
   ]
  },
  {
   "cell_type": "code",
   "execution_count": 5,
   "id": "b93df6ef",
   "metadata": {},
   "outputs": [],
   "source": [
    "x=np.array([[1,2],[3,4]])"
   ]
  },
  {
   "cell_type": "code",
   "execution_count": 6,
   "id": "9eb08185",
   "metadata": {},
   "outputs": [
    {
     "data": {
      "text/plain": [
       "tensor([[1, 2],\n",
       "        [3, 4]], dtype=torch.int32)"
      ]
     },
     "execution_count": 6,
     "metadata": {},
     "output_type": "execute_result"
    }
   ],
   "source": [
    "tensor=torch.from_numpy(x)\n",
    "tensor"
   ]
  },
  {
   "cell_type": "code",
   "execution_count": 7,
   "id": "a0dd80fb",
   "metadata": {},
   "outputs": [
    {
     "data": {
      "text/plain": [
       "tensor([ 0.,  1.,  2.,  3.,  4.,  5.,  6.,  7.,  8.,  9., 10., 11., 12., 13.,\n",
       "        14., 15., 16., 17., 18., 19., 20., 21., 22., 23., 24.])"
      ]
     },
     "execution_count": 7,
     "metadata": {},
     "output_type": "execute_result"
    }
   ],
   "source": [
    "x=torch.arange(25,dtype=torch.float32)\n",
    "x"
   ]
  },
  {
   "cell_type": "code",
   "execution_count": 8,
   "id": "a68283fb",
   "metadata": {},
   "outputs": [
    {
     "data": {
      "text/plain": [
       "tensor([ 0,  1,  2,  3,  4,  5,  6,  7,  8,  9, 10, 11, 12, 13, 14, 15, 16, 17,\n",
       "        18, 19, 20, 21, 22, 23, 24])"
      ]
     },
     "execution_count": 8,
     "metadata": {},
     "output_type": "execute_result"
    }
   ],
   "source": [
    "x=torch.arange(25)\n",
    "x"
   ]
  },
  {
   "cell_type": "code",
   "execution_count": 9,
   "id": "fccea1d3",
   "metadata": {},
   "outputs": [
    {
     "data": {
      "text/plain": [
       "tensor([[0., 0., 0., 0., 0., 0.],\n",
       "        [0., 0., 0., 0., 0., 0.],\n",
       "        [0., 0., 0., 0., 0., 0.],\n",
       "        [0., 0., 0., 0., 0., 0.]])"
      ]
     },
     "execution_count": 9,
     "metadata": {},
     "output_type": "execute_result"
    }
   ],
   "source": [
    "torch.zeros(4,6)"
   ]
  },
  {
   "cell_type": "code",
   "execution_count": 10,
   "id": "13f12936",
   "metadata": {},
   "outputs": [
    {
     "data": {
      "text/plain": [
       "tensor([[1., 1., 1., 1., 1., 1.],\n",
       "        [1., 1., 1., 1., 1., 1.],\n",
       "        [1., 1., 1., 1., 1., 1.],\n",
       "        [1., 1., 1., 1., 1., 1.]])"
      ]
     },
     "execution_count": 10,
     "metadata": {},
     "output_type": "execute_result"
    }
   ],
   "source": [
    "torch.ones(4,6)"
   ]
  },
  {
   "cell_type": "markdown",
   "id": "99c80e21",
   "metadata": {},
   "source": [
    "# Tensor Attributes"
   ]
  },
  {
   "cell_type": "code",
   "execution_count": 11,
   "id": "11adf187",
   "metadata": {},
   "outputs": [
    {
     "data": {
      "text/plain": [
       "torch.Size([25])"
      ]
     },
     "execution_count": 11,
     "metadata": {},
     "output_type": "execute_result"
    }
   ],
   "source": [
    "x.shape"
   ]
  },
  {
   "cell_type": "code",
   "execution_count": 12,
   "id": "8e216148",
   "metadata": {},
   "outputs": [
    {
     "data": {
      "text/plain": [
       "torch.int64"
      ]
     },
     "execution_count": 12,
     "metadata": {},
     "output_type": "execute_result"
    }
   ],
   "source": [
    "x.dtype"
   ]
  },
  {
   "cell_type": "code",
   "execution_count": 13,
   "id": "f014ace5",
   "metadata": {},
   "outputs": [
    {
     "data": {
      "text/plain": [
       "device(type='cpu')"
      ]
     },
     "execution_count": 13,
     "metadata": {},
     "output_type": "execute_result"
    }
   ],
   "source": [
    "x.device"
   ]
  },
  {
   "cell_type": "code",
   "execution_count": 14,
   "id": "68d1919e",
   "metadata": {},
   "outputs": [],
   "source": [
    "# Create 4 X 6 matrix"
   ]
  },
  {
   "cell_type": "code",
   "execution_count": 15,
   "id": "f4ccbf35",
   "metadata": {},
   "outputs": [],
   "source": [
    "a=torch.randn(4,6)"
   ]
  },
  {
   "cell_type": "code",
   "execution_count": 16,
   "id": "aae5b6d3",
   "metadata": {},
   "outputs": [],
   "source": [
    "b=torch.rand(4,6)"
   ]
  },
  {
   "cell_type": "code",
   "execution_count": 17,
   "id": "0593ab29",
   "metadata": {},
   "outputs": [
    {
     "name": "stdout",
     "output_type": "stream",
     "text": [
      "tensor([[-1.1824,  1.3755,  1.8175,  0.9843, -0.1525,  1.1158],\n",
      "        [ 1.7545, -0.8837, -0.0737, -0.6097, -0.3553,  1.1356],\n",
      "        [ 0.8707, -0.0894,  1.7369, -1.4336, -0.0812,  0.5224],\n",
      "        [ 0.3802, -1.1845, -1.4001, -1.4508, -1.3760, -0.8578]])\n",
      "tensor([[0.2020, 0.7559, 0.2944, 0.7059, 0.2256, 0.8867],\n",
      "        [0.5069, 0.5571, 0.7163, 0.3244, 0.7916, 0.2096],\n",
      "        [0.1007, 0.6395, 0.1805, 0.3626, 0.9752, 0.1704],\n",
      "        [0.7679, 0.9510, 0.0066, 0.8095, 0.1425, 0.1450]])\n"
     ]
    }
   ],
   "source": [
    "print(a)\n",
    "print(b)"
   ]
  },
  {
   "cell_type": "code",
   "execution_count": 18,
   "id": "c51ba67d",
   "metadata": {},
   "outputs": [],
   "source": [
    "#concatinate both tensor"
   ]
  },
  {
   "cell_type": "code",
   "execution_count": 19,
   "id": "8b3d014b",
   "metadata": {},
   "outputs": [
    {
     "name": "stdout",
     "output_type": "stream",
     "text": [
      "tensor([[-1.1824,  1.3755,  1.8175,  0.9843, -0.1525,  1.1158],\n",
      "        [ 1.7545, -0.8837, -0.0737, -0.6097, -0.3553,  1.1356],\n",
      "        [ 0.8707, -0.0894,  1.7369, -1.4336, -0.0812,  0.5224],\n",
      "        [ 0.3802, -1.1845, -1.4001, -1.4508, -1.3760, -0.8578],\n",
      "        [ 0.2020,  0.7559,  0.2944,  0.7059,  0.2256,  0.8867],\n",
      "        [ 0.5069,  0.5571,  0.7163,  0.3244,  0.7916,  0.2096],\n",
      "        [ 0.1007,  0.6395,  0.1805,  0.3626,  0.9752,  0.1704],\n",
      "        [ 0.7679,  0.9510,  0.0066,  0.8095,  0.1425,  0.1450]])\n"
     ]
    }
   ],
   "source": [
    "big_tensor=torch.cat([a,b],dim=0)\n",
    "print(big_tensor)"
   ]
  },
  {
   "cell_type": "code",
   "execution_count": 20,
   "id": "43afeddb",
   "metadata": {},
   "outputs": [],
   "source": [
    "# Add"
   ]
  },
  {
   "cell_type": "code",
   "execution_count": 21,
   "id": "309842b8",
   "metadata": {},
   "outputs": [],
   "source": [
    "c=a+b"
   ]
  },
  {
   "cell_type": "code",
   "execution_count": 22,
   "id": "1ef5b788",
   "metadata": {},
   "outputs": [
    {
     "data": {
      "text/plain": [
       "tensor([[-0.9804,  2.1315,  2.1119,  1.6902,  0.0732,  2.0025],\n",
       "        [ 2.2614, -0.3267,  0.6426, -0.2853,  0.4362,  1.3452],\n",
       "        [ 0.9714,  0.5501,  1.9173, -1.0710,  0.8940,  0.6928],\n",
       "        [ 1.1481, -0.2335, -1.3935, -0.6413, -1.2335, -0.7128]])"
      ]
     },
     "execution_count": 22,
     "metadata": {},
     "output_type": "execute_result"
    }
   ],
   "source": [
    "c"
   ]
  },
  {
   "cell_type": "code",
   "execution_count": 23,
   "id": "9d9b61ff",
   "metadata": {},
   "outputs": [
    {
     "name": "stdout",
     "output_type": "stream",
     "text": [
      "torch.Size([8, 6])\n"
     ]
    }
   ],
   "source": [
    "print(big_tensor.shape)"
   ]
  },
  {
   "cell_type": "code",
   "execution_count": 24,
   "id": "d5925ff1",
   "metadata": {},
   "outputs": [
    {
     "data": {
      "text/plain": [
       "torch.Size([4, 6])"
      ]
     },
     "execution_count": 24,
     "metadata": {},
     "output_type": "execute_result"
    }
   ],
   "source": [
    "c.shape"
   ]
  },
  {
   "cell_type": "code",
   "execution_count": 25,
   "id": "17a632a0",
   "metadata": {},
   "outputs": [
    {
     "data": {
      "text/plain": [
       "tensor([[-0.9804,  2.1315,  2.1119,  1.6902,  0.0732,  2.0025],\n",
       "        [ 2.2614, -0.3267,  0.6426, -0.2853,  0.4362,  1.3452],\n",
       "        [ 0.9714,  0.5501,  1.9173, -1.0710,  0.8940,  0.6928],\n",
       "        [ 1.1481, -0.2335, -1.3935, -0.6413, -1.2335, -0.7128]])"
      ]
     },
     "execution_count": 25,
     "metadata": {},
     "output_type": "execute_result"
    }
   ],
   "source": [
    "torch.add(a,b)"
   ]
  },
  {
   "cell_type": "code",
   "execution_count": 26,
   "id": "9362dde3",
   "metadata": {},
   "outputs": [
    {
     "name": "stdout",
     "output_type": "stream",
     "text": [
      "tensor([[-0.2388,  1.0398,  0.5350,  0.6948, -0.0344,  0.9894],\n",
      "        [ 0.8894, -0.4923, -0.0528, -0.1978, -0.2813,  0.2380],\n",
      "        [ 0.0877, -0.0572,  0.3134, -0.5199, -0.0791,  0.0890],\n",
      "        [ 0.2920, -1.1265, -0.0092, -1.1744, -0.1961, -0.1244]])\n"
     ]
    }
   ],
   "source": [
    "e=a*b\n",
    "print(e)"
   ]
  },
  {
   "cell_type": "code",
   "execution_count": 27,
   "id": "7e752fb9",
   "metadata": {},
   "outputs": [
    {
     "data": {
      "text/plain": [
       "tensor([[-0.9804,  2.1315,  2.1119,  1.6902,  0.0732,  2.0025],\n",
       "        [ 2.2614, -0.3267,  0.6426, -0.2853,  0.4362,  1.3452],\n",
       "        [ 0.9714,  0.5501,  1.9173, -1.0710,  0.8940,  0.6928],\n",
       "        [ 1.1481, -0.2335, -1.3935, -0.6413, -1.2335, -0.7128]])"
      ]
     },
     "execution_count": 27,
     "metadata": {},
     "output_type": "execute_result"
    }
   ],
   "source": [
    "c"
   ]
  },
  {
   "cell_type": "code",
   "execution_count": 28,
   "id": "ddd03518",
   "metadata": {},
   "outputs": [
    {
     "data": {
      "text/plain": [
       "tensor([[-0.9804,  2.1315,  2.1119],\n",
       "        [ 1.6902,  0.0732,  2.0025],\n",
       "        [ 2.2614, -0.3267,  0.6426],\n",
       "        [-0.2853,  0.4362,  1.3452],\n",
       "        [ 0.9714,  0.5501,  1.9173],\n",
       "        [-1.0710,  0.8940,  0.6928],\n",
       "        [ 1.1481, -0.2335, -1.3935],\n",
       "        [-0.6413, -1.2335, -0.7128]])"
      ]
     },
     "execution_count": 28,
     "metadata": {},
     "output_type": "execute_result"
    }
   ],
   "source": [
    "c.view(8,3)"
   ]
  },
  {
   "cell_type": "code",
   "execution_count": 29,
   "id": "a633ae29",
   "metadata": {},
   "outputs": [],
   "source": [
    "# view can change the size of matrix"
   ]
  },
  {
   "cell_type": "code",
   "execution_count": 30,
   "id": "fddef8d5",
   "metadata": {},
   "outputs": [
    {
     "data": {
      "text/plain": [
       "tensor([[-0.9804,  2.1315],\n",
       "        [ 2.1119,  1.6902],\n",
       "        [ 0.0732,  2.0025],\n",
       "        [ 2.2614, -0.3267],\n",
       "        [ 0.6426, -0.2853],\n",
       "        [ 0.4362,  1.3452],\n",
       "        [ 0.9714,  0.5501],\n",
       "        [ 1.9173, -1.0710],\n",
       "        [ 0.8940,  0.6928],\n",
       "        [ 1.1481, -0.2335],\n",
       "        [-1.3935, -0.6413],\n",
       "        [-1.2335, -0.7128]])"
      ]
     },
     "execution_count": 30,
     "metadata": {},
     "output_type": "execute_result"
    }
   ],
   "source": [
    "c.view(12,2)"
   ]
  },
  {
   "cell_type": "code",
   "execution_count": 31,
   "id": "0bfd0907",
   "metadata": {},
   "outputs": [],
   "source": [
    "# also can be done by reshape function"
   ]
  },
  {
   "cell_type": "code",
   "execution_count": null,
   "id": "7511670b",
   "metadata": {},
   "outputs": [],
   "source": []
  }
 ],
 "metadata": {
  "kernelspec": {
   "display_name": "Python 3 (ipykernel)",
   "language": "python",
   "name": "python3"
  },
  "language_info": {
   "codemirror_mode": {
    "name": "ipython",
    "version": 3
   },
   "file_extension": ".py",
   "mimetype": "text/x-python",
   "name": "python",
   "nbconvert_exporter": "python",
   "pygments_lexer": "ipython3",
   "version": "3.9.13"
  }
 },
 "nbformat": 4,
 "nbformat_minor": 5
}
